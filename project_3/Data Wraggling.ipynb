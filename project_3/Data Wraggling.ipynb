{
 "cells": [
  {
   "cell_type": "markdown",
   "metadata": {},
   "source": [
    "# Data Wraggling"
   ]
  },
  {
   "cell_type": "markdown",
   "metadata": {},
   "source": [
    "## Pulling posts from subreddits"
   ]
  },
  {
   "cell_type": "code",
   "execution_count": 1,
   "metadata": {},
   "outputs": [],
   "source": [
    "#Imports\n",
    "import requests\n",
    "import time\n",
    "import pandas as pd"
   ]
  },
  {
   "cell_type": "code",
   "execution_count": 2,
   "metadata": {},
   "outputs": [],
   "source": [
    "## Subreddit Function inspired by following: https://www.youtube.com/watch?v=AcrjEWsMi_E, further refined by Derya Gumustel\n",
    "def pull_subreddit(subreddit):\n",
    "    output_df = pd.DataFrame()\n",
    "    interations = 30 # 2 for testing/ 30 for final data pull\n",
    "    current_time = int(time.time())\n",
    "    \n",
    "    for i in range(interations):\n",
    "        url = 'https://api.pushshift.io/reddit/search/submission/?' #Starter URL pulling just submissions\n",
    "        pull_params = {\"subreddit\":subreddit,\n",
    "                  \"size\":100,#Size is 5 while testing. Raise to 100 for actually pulling, once every 30 minutes\n",
    "                  \"before\":current_time} \n",
    "    \n",
    "        #Pull data\n",
    "        req = requests.get(url,pull_params)\n",
    "    \n",
    "        #Place pulled data into Dataframe and timestamp\n",
    "        pull = req.json()\n",
    "        pulled_data_df = pd.DataFrame(pull['data'])\n",
    "        current_time = pulled_data_df['created_utc'].min()\n",
    "        \n",
    "        #Derya Black-Box Code\n",
    "        frames = [pulled_data_df,output_df]\n",
    "        output_df = pd.concat(frames,axis=0, ignore_index=True)\n",
    "        \n",
    "        #Timer to prevent spamming requests\n",
    "        time.sleep(60)\n",
    "    return output_df    "
   ]
  },
  {
   "cell_type": "code",
   "execution_count": 3,
   "metadata": {},
   "outputs": [],
   "source": [
    "#Pulling Fantasy Subreddit 100 posts every 1 minute 30 times\n",
    "fantasy_df = pull_subreddit('Fantasy')\n",
    "fantasy_df.to_csv('./data/dirty_fantasy.csv')"
   ]
  },
  {
   "cell_type": "code",
   "execution_count": 4,
   "metadata": {},
   "outputs": [],
   "source": [
    "#Pulling Sci-fi Subreddit 100 posts every 1 minute 30 times\n",
    "scifi_df = pull_subreddit('scifi')\n",
    "scifi_df.to_csv('./data/dirty_scifi.csv')"
   ]
  }
 ],
 "metadata": {
  "kernelspec": {
   "display_name": "Python 3",
   "language": "python",
   "name": "python3"
  },
  "language_info": {
   "codemirror_mode": {
    "name": "ipython",
    "version": 3
   },
   "file_extension": ".py",
   "mimetype": "text/x-python",
   "name": "python",
   "nbconvert_exporter": "python",
   "pygments_lexer": "ipython3",
   "version": "3.8.5"
  }
 },
 "nbformat": 4,
 "nbformat_minor": 4
}
