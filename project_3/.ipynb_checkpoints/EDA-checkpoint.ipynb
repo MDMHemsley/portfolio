{
 "cells": [
  {
   "cell_type": "markdown",
   "metadata": {},
   "source": [
    "# EDA"
   ]
  },
  {
   "cell_type": "markdown",
   "metadata": {},
   "source": [
    "### Building a predictive model to predict which subreddit a post came from"
   ]
  },
  {
   "cell_type": "markdown",
   "metadata": {},
   "source": [
    "Subreddits: 'scifi' , 'Fantasy'"
   ]
  },
  {
   "cell_type": "code",
   "execution_count": 1,
   "metadata": {},
   "outputs": [],
   "source": [
    "#Imports\n",
    "import requests\n",
    "import pandas as pd\n",
    "import spacy\n",
    "import time\n",
    "\n",
    "from spacy import displacy"
   ]
  },
  {
   "cell_type": "code",
   "execution_count": 2,
   "metadata": {},
   "outputs": [],
   "source": [
    "nlp = spacy.load('en_core_web_lg')"
   ]
  },
  {
   "cell_type": "markdown",
   "metadata": {},
   "source": [
    "# MVP Model Features\n",
    "<ul>\n",
    "    <li>#1 What subreddit did the post come from?</li>\n",
    "    <li>#2 What is the selftext</li>\n",
    "    <li>#3 What is the title of the post</li>\n",
    "</ul>"
   ]
  },
  {
   "cell_type": "code",
   "execution_count": 3,
   "metadata": {},
   "outputs": [],
   "source": [
    "## Subreddit Function inspired by following: https://www.youtube.com/watch?v=AcrjEWsMi_E, further refined by Derya Gumustel\n",
    "def pull_subreddit(subreddit):\n",
    "    output_df = pd.DataFrame()\n",
    "    interations = 10 # 2 for testing/ 25 for final data pull\n",
    "    current_time = int(time.time())\n",
    "    \n",
    "    for i in range(interations):\n",
    "        url = 'https://api.pushshift.io/reddit/search/submission/?' #Starter URL pulling just submissions\n",
    "        pull_params = {\"subreddit\":subreddit,\n",
    "                  \"size\":100,#Size is 5 while testing. Raise to 100 for actually pulling, once every 30 minutes\n",
    "                  \"before\":current_time} \n",
    "    \n",
    "        #Pull data\n",
    "        req = requests.get(url,pull_params)\n",
    "    \n",
    "        #Place pulled data into Dataframe and timestamp\n",
    "        pull = req.json()\n",
    "        pulled_data_df = pd.DataFrame(pull['data'])\n",
    "        current_time = pulled_data_df['created_utc'].min()\n",
    "        \n",
    "        #Derya Black-Box Code\n",
    "        frames = [pulled_data_df,output_df]\n",
    "        output_df = pd.concat(frames,axis=0, ignore_index=True)\n",
    "        \n",
    "        #Timer to prevent spamming requests\n",
    "        time.sleep(180)\n",
    "    return output_df    "
   ]
  },
  {
   "cell_type": "markdown",
   "metadata": {},
   "source": [
    "## Fantasy EDA"
   ]
  },
  {
   "cell_type": "code",
   "execution_count": 4,
   "metadata": {},
   "outputs": [],
   "source": [
    "fantasy_df = pull_subreddit('Fantasy')"
   ]
  },
  {
   "cell_type": "code",
   "execution_count": 5,
   "metadata": {},
   "outputs": [
    {
     "data": {
      "text/plain": [
       "Index(['all_awardings', 'allow_live_comments', 'author',\n",
       "       'author_flair_background_color', 'author_flair_css_class',\n",
       "       'author_flair_text', 'author_flair_text_color', 'awarders', 'banned_by',\n",
       "       'can_mod_post', 'contest_mode', 'created_utc', 'domain', 'full_link',\n",
       "       'gildings', 'id', 'is_crosspostable', 'is_meta', 'is_original_content',\n",
       "       'is_reddit_media_domain', 'is_robot_indexable', 'is_self', 'is_video',\n",
       "       'link_flair_background_color', 'link_flair_richtext',\n",
       "       'link_flair_text_color', 'link_flair_type', 'locked', 'media_only',\n",
       "       'no_follow', 'num_comments', 'num_crossposts', 'over_18',\n",
       "       'parent_whitelist_status', 'permalink', 'pinned', 'pwls',\n",
       "       'removed_by_category', 'retrieved_on', 'score', 'send_replies',\n",
       "       'spoiler', 'stickied', 'subreddit', 'subreddit_id',\n",
       "       'subreddit_subscribers', 'subreddit_type', 'thumbnail', 'title',\n",
       "       'total_awards_received', 'treatment_tags', 'upvote_ratio', 'url',\n",
       "       'whitelist_status', 'wls', 'author_flair_richtext', 'author_flair_type',\n",
       "       'author_fullname', 'author_patreon_flair', 'author_premium', 'edited',\n",
       "       'selftext', 'author_flair_template_id', 'post_hint', 'preview',\n",
       "       'gilded', 'link_flair_css_class', 'link_flair_template_id',\n",
       "       'link_flair_text', 'url_overridden_by_dest', 'thumbnail_height',\n",
       "       'thumbnail_width', 'suggested_sort', 'is_gallery', 'media_metadata',\n",
       "       'crosspost_parent', 'crosspost_parent_list', 'media', 'media_embed',\n",
       "       'secure_media', 'secure_media_embed', 'gallery_data', 'collections',\n",
       "       'author_cakeday'],\n",
       "      dtype='object')"
      ]
     },
     "execution_count": 5,
     "metadata": {},
     "output_type": "execute_result"
    }
   ],
   "source": [
    "fantasy_df.columns"
   ]
  },
  {
   "cell_type": "markdown",
   "metadata": {},
   "source": [
    "### MVP Fantasy EDA"
   ]
  },
  {
   "cell_type": "code",
   "execution_count": 6,
   "metadata": {},
   "outputs": [],
   "source": [
    "mvp_fantasy_df = fantasy_df[['subreddit','title','selftext']] #Constructing MVP Dataframe for Fantasy subreddit"
   ]
  },
  {
   "cell_type": "code",
   "execution_count": 7,
   "metadata": {},
   "outputs": [
    {
     "data": {
      "text/html": [
       "<div>\n",
       "<style scoped>\n",
       "    .dataframe tbody tr th:only-of-type {\n",
       "        vertical-align: middle;\n",
       "    }\n",
       "\n",
       "    .dataframe tbody tr th {\n",
       "        vertical-align: top;\n",
       "    }\n",
       "\n",
       "    .dataframe thead th {\n",
       "        text-align: right;\n",
       "    }\n",
       "</style>\n",
       "<table border=\"1\" class=\"dataframe\">\n",
       "  <thead>\n",
       "    <tr style=\"text-align: right;\">\n",
       "      <th></th>\n",
       "      <th>subreddit</th>\n",
       "      <th>title</th>\n",
       "      <th>selftext</th>\n",
       "    </tr>\n",
       "  </thead>\n",
       "  <tbody>\n",
       "    <tr>\n",
       "      <th>0</th>\n",
       "      <td>Fantasy</td>\n",
       "      <td>(QUESTION) My friends and I are gonna play D&amp;a...</td>\n",
       "      <td>NaN</td>\n",
       "    </tr>\n",
       "    <tr>\n",
       "      <th>1</th>\n",
       "      <td>Fantasy</td>\n",
       "      <td>The lightning-struck heart by TJ Klune... lite...</td>\n",
       "      <td>[removed]</td>\n",
       "    </tr>\n",
       "    <tr>\n",
       "      <th>2</th>\n",
       "      <td>Fantasy</td>\n",
       "      <td>Best Fantasy (but also sci fi!) novel titles ?</td>\n",
       "      <td>As the title says.\\n\\nWhat were the best novel...</td>\n",
       "    </tr>\n",
       "    <tr>\n",
       "      <th>3</th>\n",
       "      <td>Fantasy</td>\n",
       "      <td>Which grim darkish fantasy book(s) are so deep...</td>\n",
       "      <td>Which books do you guys think would attract th...</td>\n",
       "    </tr>\n",
       "    <tr>\n",
       "      <th>4</th>\n",
       "      <td>Fantasy</td>\n",
       "      <td>My Bingo Obsession Made Manifest - Retro Bingo</td>\n",
       "      <td>My first experience with the book bingo readin...</td>\n",
       "    </tr>\n",
       "  </tbody>\n",
       "</table>\n",
       "</div>"
      ],
      "text/plain": [
       "  subreddit                                              title  \\\n",
       "0   Fantasy  (QUESTION) My friends and I are gonna play D&a...   \n",
       "1   Fantasy  The lightning-struck heart by TJ Klune... lite...   \n",
       "2   Fantasy     Best Fantasy (but also sci fi!) novel titles ?   \n",
       "3   Fantasy  Which grim darkish fantasy book(s) are so deep...   \n",
       "4   Fantasy     My Bingo Obsession Made Manifest - Retro Bingo   \n",
       "\n",
       "                                            selftext  \n",
       "0                                                NaN  \n",
       "1                                          [removed]  \n",
       "2  As the title says.\\n\\nWhat were the best novel...  \n",
       "3  Which books do you guys think would attract th...  \n",
       "4  My first experience with the book bingo readin...  "
      ]
     },
     "execution_count": 7,
     "metadata": {},
     "output_type": "execute_result"
    }
   ],
   "source": [
    "mvp_fantasy_df.head()"
   ]
  },
  {
   "cell_type": "markdown",
   "metadata": {},
   "source": [
    "## Sci-fi EDA"
   ]
  },
  {
   "cell_type": "code",
   "execution_count": 8,
   "metadata": {},
   "outputs": [],
   "source": [
    "scifi_df = pull_subreddit('scifi')"
   ]
  },
  {
   "cell_type": "code",
   "execution_count": 9,
   "metadata": {},
   "outputs": [],
   "source": [
    "mvp_scifi_df = scifi_df[['subreddit','title','selftext']] #Constructing MVP Dataframe for scifi subreddit"
   ]
  },
  {
   "cell_type": "code",
   "execution_count": 10,
   "metadata": {},
   "outputs": [
    {
     "data": {
      "text/html": [
       "<div>\n",
       "<style scoped>\n",
       "    .dataframe tbody tr th:only-of-type {\n",
       "        vertical-align: middle;\n",
       "    }\n",
       "\n",
       "    .dataframe tbody tr th {\n",
       "        vertical-align: top;\n",
       "    }\n",
       "\n",
       "    .dataframe thead th {\n",
       "        text-align: right;\n",
       "    }\n",
       "</style>\n",
       "<table border=\"1\" class=\"dataframe\">\n",
       "  <thead>\n",
       "    <tr style=\"text-align: right;\">\n",
       "      <th></th>\n",
       "      <th>subreddit</th>\n",
       "      <th>title</th>\n",
       "      <th>selftext</th>\n",
       "    </tr>\n",
       "  </thead>\n",
       "  <tbody>\n",
       "    <tr>\n",
       "      <th>0</th>\n",
       "      <td>scifi</td>\n",
       "      <td>Gina Lives to Fight Another Day!!👍❤️❤️👍</td>\n",
       "      <td></td>\n",
       "    </tr>\n",
       "    <tr>\n",
       "      <th>1</th>\n",
       "      <td>scifi</td>\n",
       "      <td>Buy Google Reviews - 100% NonDrop Permanent ma...</td>\n",
       "      <td></td>\n",
       "    </tr>\n",
       "    <tr>\n",
       "      <th>2</th>\n",
       "      <td>scifi</td>\n",
       "      <td>How to love yourself this Galentine's Day</td>\n",
       "      <td>[removed]</td>\n",
       "    </tr>\n",
       "    <tr>\n",
       "      <th>3</th>\n",
       "      <td>scifi</td>\n",
       "      <td>M-Tec Sturmvogel Gunship</td>\n",
       "      <td></td>\n",
       "    </tr>\n",
       "    <tr>\n",
       "      <th>4</th>\n",
       "      <td>scifi</td>\n",
       "      <td>Anyone else hugely underwhelmed with Three Bod...</td>\n",
       "      <td>[removed]</td>\n",
       "    </tr>\n",
       "    <tr>\n",
       "      <th>5</th>\n",
       "      <td>scifi</td>\n",
       "      <td>New and different...</td>\n",
       "      <td></td>\n",
       "    </tr>\n",
       "    <tr>\n",
       "      <th>6</th>\n",
       "      <td>scifi</td>\n",
       "      <td>How to love yourself this Galentine's Day</td>\n",
       "      <td>[removed]</td>\n",
       "    </tr>\n",
       "    <tr>\n",
       "      <th>7</th>\n",
       "      <td>scifi</td>\n",
       "      <td>How to love yourself this Galentine's Day</td>\n",
       "      <td>[removed]</td>\n",
       "    </tr>\n",
       "    <tr>\n",
       "      <th>8</th>\n",
       "      <td>scifi</td>\n",
       "      <td>The Best Movies to stream on Valentine’s Day 2...</td>\n",
       "      <td></td>\n",
       "    </tr>\n",
       "    <tr>\n",
       "      <th>9</th>\n",
       "      <td>scifi</td>\n",
       "      <td>When the show is better than the books...</td>\n",
       "      <td>[removed]</td>\n",
       "    </tr>\n",
       "    <tr>\n",
       "      <th>10</th>\n",
       "      <td>scifi</td>\n",
       "      <td>The Cultural Critique in H.G. Wells’s “The Tim...</td>\n",
       "      <td></td>\n",
       "    </tr>\n",
       "    <tr>\n",
       "      <th>11</th>\n",
       "      <td>scifi</td>\n",
       "      <td>Contemporary Sci-Fi Good?</td>\n",
       "      <td>[removed]</td>\n",
       "    </tr>\n",
       "    <tr>\n",
       "      <th>12</th>\n",
       "      <td>scifi</td>\n",
       "      <td>\"Humans are Weird: I Have The Data\" A book of ...</td>\n",
       "      <td># [Title: \"Humans are Weird: I Have the Data\"]...</td>\n",
       "    </tr>\n",
       "    <tr>\n",
       "      <th>13</th>\n",
       "      <td>scifi</td>\n",
       "      <td>Beltah Loadah Theeme Sang!</td>\n",
       "      <td>This gives off Beltah Loader Vibe, yeah!?\\n\\n ...</td>\n",
       "    </tr>\n",
       "    <tr>\n",
       "      <th>14</th>\n",
       "      <td>scifi</td>\n",
       "      <td>Does discrimination against extraterrestrials ...</td>\n",
       "      <td>[removed]</td>\n",
       "    </tr>\n",
       "    <tr>\n",
       "      <th>15</th>\n",
       "      <td>scifi</td>\n",
       "      <td>Help me find old Si-Fi movie!</td>\n",
       "      <td>[removed]</td>\n",
       "    </tr>\n",
       "    <tr>\n",
       "      <th>16</th>\n",
       "      <td>scifi</td>\n",
       "      <td>Looking for my next series -asking for recs</td>\n",
       "      <td>[removed]</td>\n",
       "    </tr>\n",
       "    <tr>\n",
       "      <th>17</th>\n",
       "      <td>scifi</td>\n",
       "      <td>GET IN GET OUT - (Chromatics) Tick Of The Cloc...</td>\n",
       "      <td></td>\n",
       "    </tr>\n",
       "    <tr>\n",
       "      <th>18</th>\n",
       "      <td>scifi</td>\n",
       "      <td>[Self-Promotion] Artificial Jelly is on sale o...</td>\n",
       "      <td>[removed]</td>\n",
       "    </tr>\n",
       "    <tr>\n",
       "      <th>19</th>\n",
       "      <td>scifi</td>\n",
       "      <td>Starcops - BBC 1987</td>\n",
       "      <td>https://www.youtube.com/channel/UCQVzGcmBoDakd...</td>\n",
       "    </tr>\n",
       "    <tr>\n",
       "      <th>20</th>\n",
       "      <td>scifi</td>\n",
       "      <td>Paradigm 2045: Trinity's Children wins Audiobo...</td>\n",
       "      <td>Hi Guys,\\n\\nHoping this falls within the rules...</td>\n",
       "    </tr>\n",
       "    <tr>\n",
       "      <th>21</th>\n",
       "      <td>scifi</td>\n",
       "      <td>Looking for a heavily cgi indie space full len...</td>\n",
       "      <td>[removed]</td>\n",
       "    </tr>\n",
       "    <tr>\n",
       "      <th>22</th>\n",
       "      <td>scifi</td>\n",
       "      <td>SELF-PROMO SATURDAY - military/space opera Sci...</td>\n",
       "      <td>[removed]</td>\n",
       "    </tr>\n",
       "    <tr>\n",
       "      <th>23</th>\n",
       "      <td>scifi</td>\n",
       "      <td>Fictional Starships Size Comparison</td>\n",
       "      <td></td>\n",
       "    </tr>\n",
       "    <tr>\n",
       "      <th>24</th>\n",
       "      <td>scifi</td>\n",
       "      <td>OBI-WAN said he'd be more powerful after VADER...</td>\n",
       "      <td></td>\n",
       "    </tr>\n",
       "  </tbody>\n",
       "</table>\n",
       "</div>"
      ],
      "text/plain": [
       "   subreddit                                              title  \\\n",
       "0      scifi            Gina Lives to Fight Another Day!!👍❤️❤️👍   \n",
       "1      scifi  Buy Google Reviews - 100% NonDrop Permanent ma...   \n",
       "2      scifi          How to love yourself this Galentine's Day   \n",
       "3      scifi                           M-Tec Sturmvogel Gunship   \n",
       "4      scifi  Anyone else hugely underwhelmed with Three Bod...   \n",
       "5      scifi                               New and different...   \n",
       "6      scifi          How to love yourself this Galentine's Day   \n",
       "7      scifi          How to love yourself this Galentine's Day   \n",
       "8      scifi  The Best Movies to stream on Valentine’s Day 2...   \n",
       "9      scifi          When the show is better than the books...   \n",
       "10     scifi  The Cultural Critique in H.G. Wells’s “The Tim...   \n",
       "11     scifi                          Contemporary Sci-Fi Good?   \n",
       "12     scifi  \"Humans are Weird: I Have The Data\" A book of ...   \n",
       "13     scifi                         Beltah Loadah Theeme Sang!   \n",
       "14     scifi  Does discrimination against extraterrestrials ...   \n",
       "15     scifi                      Help me find old Si-Fi movie!   \n",
       "16     scifi        Looking for my next series -asking for recs   \n",
       "17     scifi  GET IN GET OUT - (Chromatics) Tick Of The Cloc...   \n",
       "18     scifi  [Self-Promotion] Artificial Jelly is on sale o...   \n",
       "19     scifi                                Starcops - BBC 1987   \n",
       "20     scifi  Paradigm 2045: Trinity's Children wins Audiobo...   \n",
       "21     scifi  Looking for a heavily cgi indie space full len...   \n",
       "22     scifi  SELF-PROMO SATURDAY - military/space opera Sci...   \n",
       "23     scifi                Fictional Starships Size Comparison   \n",
       "24     scifi  OBI-WAN said he'd be more powerful after VADER...   \n",
       "\n",
       "                                             selftext  \n",
       "0                                                      \n",
       "1                                                      \n",
       "2                                           [removed]  \n",
       "3                                                      \n",
       "4                                           [removed]  \n",
       "5                                                      \n",
       "6                                           [removed]  \n",
       "7                                           [removed]  \n",
       "8                                                      \n",
       "9                                           [removed]  \n",
       "10                                                     \n",
       "11                                          [removed]  \n",
       "12  # [Title: \"Humans are Weird: I Have the Data\"]...  \n",
       "13  This gives off Beltah Loader Vibe, yeah!?\\n\\n ...  \n",
       "14                                          [removed]  \n",
       "15                                          [removed]  \n",
       "16                                          [removed]  \n",
       "17                                                     \n",
       "18                                          [removed]  \n",
       "19  https://www.youtube.com/channel/UCQVzGcmBoDakd...  \n",
       "20  Hi Guys,\\n\\nHoping this falls within the rules...  \n",
       "21                                          [removed]  \n",
       "22                                          [removed]  \n",
       "23                                                     \n",
       "24                                                     "
      ]
     },
     "execution_count": 10,
     "metadata": {},
     "output_type": "execute_result"
    }
   ],
   "source": [
    "mvp_scifi_df.head(25)"
   ]
  },
  {
   "cell_type": "markdown",
   "metadata": {},
   "source": [
    "## Merging Dataframes"
   ]
  },
  {
   "cell_type": "code",
   "execution_count": 12,
   "metadata": {},
   "outputs": [],
   "source": [
    "mvp_df = mvp_fantasy_df.merge(mvp_scifi_df,how='outer')"
   ]
  },
  {
   "cell_type": "code",
   "execution_count": 13,
   "metadata": {},
   "outputs": [],
   "source": [
    "mvp_df.to_csv('./data/dirty_mvp.csv')"
   ]
  }
 ],
 "metadata": {
  "kernelspec": {
   "display_name": "Python 3",
   "language": "python",
   "name": "python3"
  },
  "language_info": {
   "codemirror_mode": {
    "name": "ipython",
    "version": 3
   },
   "file_extension": ".py",
   "mimetype": "text/x-python",
   "name": "python",
   "nbconvert_exporter": "python",
   "pygments_lexer": "ipython3",
   "version": "3.8.5"
  }
 },
 "nbformat": 4,
 "nbformat_minor": 4
}
